{
 "cells": [
  {
   "attachments": {},
   "cell_type": "markdown",
   "metadata": {},
   "source": [
    "# Neuron Network\n",
    "\n",
    "- **Neuron Network**: Build up by multiple layers, each layer have nodes. And each node got a function called 'Activate Function\". And the input will be applied by this function to get output"
   ]
  },
  {
   "attachments": {},
   "cell_type": "markdown",
   "metadata": {},
   "source": [
    "### Neuron Network Types"
   ]
  },
  {
   "attachments": {},
   "cell_type": "markdown",
   "metadata": {},
   "source": [
    "#### Single Layer\n",
    "\n",
    "![Image](./image/SingleLayer.png)"
   ]
  },
  {
   "attachments": {},
   "cell_type": "markdown",
   "metadata": {},
   "source": [
    "#### Multiple Layer\n",
    "\n",
    "![Image](./image/MultipleLayer.png)"
   ]
  },
  {
   "attachments": {},
   "cell_type": "markdown",
   "metadata": {},
   "source": [
    "#### Layer Computation\n",
    "\n",
    "![Image](./image/HiddenLayer.png)\n",
    "\n",
    "- Each neuron in the hidden layer functions similarly to a machine learning module, equipped with its own set of parameters (weights $w$ and bias $b$), and computes an activation value $a$.\n",
    "\n",
    "- **Activation Function**: Utilizes the function. Ex: logistic function $g(z) = \\frac{1}{1 + e^{-z}}$, where $z = w \\cdot x + b$.\n",
    "\n",
    "- **Activation Values**: Each neuron outputs an activation value $a_i$, calculated from its function. These values represent more abstract features or concepts derived from the input features. The result of previous layer will be the input of the next layer. \n"
   ]
  },
  {
   "attachments": {},
   "cell_type": "markdown",
   "metadata": {},
   "source": [
    "### Whether the model is overfitting or underfitting ?\n",
    "\n",
    "#### Split the Dataset\n",
    "- We split it into 2 set (Train & Test)\n",
    "\n",
    "| Loss_Train       | Loss_Test       | Result          |\n",
    "|------------------|-----------------|-----------------|\n",
    "| Small            | Big             | Overfitting     |\n",
    "| Big              | Not Specified   | Underfitting    |\n",
    "| Small            | Small           | Well-fitted     |\n"
   ]
  },
  {
   "attachments": {},
   "cell_type": "markdown",
   "metadata": {},
   "source": [
    "### How can we choose amount of parameters for the function ?"
   ]
  },
  {
   "attachments": {},
   "cell_type": "markdown",
   "metadata": {},
   "source": [
    "- Split the dataset into three subsets: training set, cross-validation set, and test set with ratios of 60%/20%/20%. \n",
    "\n",
    "- We will train the model using the training set, then select the most suitable model with the cross-validation set. Finally, the test set is used to assess the model's error with new data.\n",
    "\n",
    "| $J_{train}$ | $J_{cv}$ | Model      |\n",
    "|-------------------|----------------|----------------------|\n",
    "| Large             | Large          | High Bias (Underfitting) |\n",
    "| Small             | Large          | High Variance (Overfitting)|\n",
    "| Small             | Small          | Well-fitted         |\n",
    "\n",
    "![Image](./image/BiasVariance.png)\n",
    "\n",
    "![Image](./image/ModifyNetwork.png)"
   ]
  },
  {
   "attachments": {},
   "cell_type": "markdown",
   "metadata": {},
   "source": [
    "### Example: Digit Number Recognizer"
   ]
  },
  {
   "attachments": {},
   "cell_type": "markdown",
   "metadata": {},
   "source": [
    "#### Import library"
   ]
  },
  {
   "cell_type": "code",
   "execution_count": 15,
   "metadata": {},
   "outputs": [],
   "source": [
    "import pandas as pd \n",
    "import numpy as np \n",
    "import tensorflow as tf \n",
    "from tensorflow.keras.layers import Input, Dense\n",
    "from tensorflow.keras.models import Sequential\n",
    "from tensorflow.keras.utils import to_categorical\n",
    "from tensorflow.keras.optimizers import Adam"
   ]
  },
  {
   "attachments": {},
   "cell_type": "markdown",
   "metadata": {},
   "source": [
    "#### Load Data"
   ]
  },
  {
   "cell_type": "code",
   "execution_count": 16,
   "metadata": {},
   "outputs": [
    {
     "name": "stdout",
     "output_type": "stream",
     "text": [
      "(7000, 784) (7000, 10)\n"
     ]
    }
   ],
   "source": [
    "data = pd.read_csv('./Dataset.csv')\n",
    "X_value = tf.convert_to_tensor(data.drop(['label'], axis = 1))\n",
    "Y_value = tf.convert_to_tensor(data['label'])\n",
    "Y_value = to_categorical(Y_value, num_classes=10)\n",
    "\n",
    "\n",
    "train_test_ratio = 0.7 \n",
    "\n",
    "X_train = X_value[:int(len(X_value) * train_test_ratio)]\n",
    "Y_train = Y_value[:int(len(Y_value) * train_test_ratio)]\n",
    "\n",
    "X_test = X_value[int(len(X_value) * train_test_ratio):]\n",
    "Y_test = Y_value[int(len(Y_value) * train_test_ratio):]\n",
    "\n",
    "print(X_train.shape, Y_train.shape)"
   ]
  },
  {
   "attachments": {},
   "cell_type": "markdown",
   "metadata": {},
   "source": [
    "#### Module Creation"
   ]
  },
  {
   "cell_type": "code",
   "execution_count": 17,
   "metadata": {},
   "outputs": [
    {
     "name": "stderr",
     "output_type": "stream",
     "text": [
      "WARNING:absl:At this time, the v2.11+ optimizer `tf.keras.optimizers.Adam` runs slowly on M1/M2 Macs, please use the legacy Keras optimizer instead, located at `tf.keras.optimizers.legacy.Adam`.\n",
      "WARNING:absl:There is a known slowdown when using v2.11+ Keras optimizers on M1/M2 Macs. Falling back to the legacy Keras optimizer, i.e., `tf.keras.optimizers.legacy.Adam`.\n"
     ]
    }
   ],
   "source": [
    "image_shape = (784)  \n",
    "\n",
    "model = Sequential([\n",
    "    Input(shape=image_shape),\n",
    "    Dense(250, activation='sigmoid'),\n",
    "    Dense(100, activation='sigmoid'), \n",
    "    Dense(20, activation='sigmoid'), \n",
    "    Dense(10, activation='softmax')\n",
    "])\n",
    "\n",
    "model.compile(Adam(learning_rate = 1e-3), loss='categorical_crossentropy', metrics=['accuracy'])"
   ]
  },
  {
   "attachments": {},
   "cell_type": "markdown",
   "metadata": {},
   "source": [
    "#### Train module"
   ]
  },
  {
   "cell_type": "code",
   "execution_count": 18,
   "metadata": {},
   "outputs": [
    {
     "name": "stdout",
     "output_type": "stream",
     "text": [
      "Epoch 1/20\n",
      "55/55 [==============================] - 0s 2ms/step - loss: 2.0232 - accuracy: 0.5006\n",
      "Epoch 2/20\n",
      "55/55 [==============================] - 0s 2ms/step - loss: 1.5105 - accuracy: 0.7196\n",
      "Epoch 3/20\n",
      "55/55 [==============================] - 0s 2ms/step - loss: 1.1797 - accuracy: 0.8127\n",
      "Epoch 4/20\n",
      "55/55 [==============================] - 0s 2ms/step - loss: 0.9464 - accuracy: 0.8523\n",
      "Epoch 5/20\n",
      "55/55 [==============================] - 0s 2ms/step - loss: 0.7726 - accuracy: 0.8824\n",
      "Epoch 6/20\n",
      "55/55 [==============================] - 0s 3ms/step - loss: 0.6549 - accuracy: 0.8936\n",
      "Epoch 7/20\n",
      "55/55 [==============================] - 0s 2ms/step - loss: 0.5754 - accuracy: 0.9031\n",
      "Epoch 8/20\n",
      "55/55 [==============================] - 0s 2ms/step - loss: 0.5118 - accuracy: 0.9049\n",
      "Epoch 9/20\n",
      "55/55 [==============================] - 0s 2ms/step - loss: 0.4625 - accuracy: 0.9083\n",
      "Epoch 10/20\n",
      "55/55 [==============================] - 0s 2ms/step - loss: 0.4326 - accuracy: 0.9131\n",
      "Epoch 11/20\n",
      "55/55 [==============================] - 0s 2ms/step - loss: 0.3944 - accuracy: 0.9169\n",
      "Epoch 12/20\n",
      "55/55 [==============================] - 0s 2ms/step - loss: 0.3654 - accuracy: 0.9227\n",
      "Epoch 13/20\n",
      "55/55 [==============================] - 0s 2ms/step - loss: 0.3419 - accuracy: 0.9230\n",
      "Epoch 14/20\n",
      "55/55 [==============================] - 0s 2ms/step - loss: 0.3285 - accuracy: 0.9251\n",
      "Epoch 15/20\n",
      "55/55 [==============================] - 0s 2ms/step - loss: 0.3163 - accuracy: 0.9264\n",
      "Epoch 16/20\n",
      "55/55 [==============================] - 0s 2ms/step - loss: 0.3001 - accuracy: 0.9281\n",
      "Epoch 17/20\n",
      "55/55 [==============================] - 0s 2ms/step - loss: 0.2806 - accuracy: 0.9313\n",
      "Epoch 18/20\n",
      "55/55 [==============================] - 0s 2ms/step - loss: 0.2636 - accuracy: 0.9360\n",
      "Epoch 19/20\n",
      "55/55 [==============================] - 0s 2ms/step - loss: 0.2587 - accuracy: 0.9371\n",
      "Epoch 20/20\n",
      "55/55 [==============================] - 0s 2ms/step - loss: 0.2556 - accuracy: 0.9356\n"
     ]
    }
   ],
   "source": [
    "history = model.fit(X_train, Y_train, epochs= 20, batch_size= 128)"
   ]
  },
  {
   "attachments": {},
   "cell_type": "markdown",
   "metadata": {},
   "source": [
    "#### Plotting Graph"
   ]
  },
  {
   "cell_type": "code",
   "execution_count": 19,
   "metadata": {},
   "outputs": [
    {
     "data": {
      "text/plain": [
       "[<matplotlib.lines.Line2D at 0x2c6481310>]"
      ]
     },
     "execution_count": 19,
     "metadata": {},
     "output_type": "execute_result"
    },
    {
     "data": {
      "image/png": "[encoded data removed]",
      "text/plain": [
       "<Figure size 640x480 with 1 Axes>"
      ]
     },
     "metadata": {},
     "output_type": "display_data"
    }
   ],
   "source": [
    "import matplotlib.pyplot as plt\n",
    "plt.plot(history.history['loss'])"
   ]
  },
  {
   "cell_type": "code",
   "execution_count": 20,
   "metadata": {},
   "outputs": [
    {
     "name": "stdout",
     "output_type": "stream",
     "text": [
      "94/94 - 0s - loss: 0.3117 - accuracy: 0.9120 - 224ms/epoch - 2ms/step\n",
      "Test Accurracy: 0.9120000004768372\n",
      "Test Loss: 0.3117133677005768\n"
     ]
    }
   ],
   "source": [
    "test_loss, test_acc = model.evaluate(X_test, Y_test, verbose=2)\n",
    "print(\"Test Accurracy:\", test_acc)\n",
    "print(\"Test Loss:\", test_loss)"
   ]
  },
  {
   "attachments": {},
   "cell_type": "markdown",
   "metadata": {},
   "source": [
    "### Example Transfer Learning: Digit Number Recognization"
   ]
  },
  {
   "attachments": {},
   "cell_type": "markdown",
   "metadata": {},
   "source": [
    "#### Import Library"
   ]
  },
  {
   "cell_type": "code",
   "execution_count": 21,
   "metadata": {},
   "outputs": [],
   "source": [
    "import numpy as np\n",
    "import tensorflow as tf\n",
    "from tensorflow.keras.models import Sequential\n",
    "from tensorflow.keras.layers import Dense, Flatten\n",
    "from tensorflow.keras.applications import ResNet50\n",
    "from tensorflow.keras.optimizers import Adam\n",
    "from tensorflow.keras.utils import to_categorical\n"
   ]
  },
  {
   "attachments": {},
   "cell_type": "markdown",
   "metadata": {},
   "source": [
    "#### Process Data"
   ]
  },
  {
   "cell_type": "code",
   "execution_count": 29,
   "metadata": {},
   "outputs": [],
   "source": [
    "data = pd.read_csv('./Dataset.csv')\n",
    "X_value = tf.convert_to_tensor(data.drop(['label'], axis = 1))\n",
    "X_value = np.reshape(X_value, (-1, 28, 28))\n",
    "X_value = np.repeat(X_value[..., np.newaxis], 3, axis=-1)\n",
    "X_value = tf.image.resize(X_value, [224, 224])\n",
    "\n",
    "Y_value = tf.convert_to_tensor(data['label'])\n",
    "Y_value = to_categorical(Y_value, num_classes=10)\n",
    "\n",
    "\n",
    "train_test_ratio = 0.7 \n",
    "\n",
    "X_train = X_value[:int(len(X_value) * train_test_ratio)]\n",
    "Y_train = Y_value[:int(len(Y_value) * train_test_ratio)]\n",
    "\n",
    "X_test = X_value[int(len(X_value) * train_test_ratio):]\n",
    "Y_test = Y_value[int(len(Y_value) * train_test_ratio):]\n"
   ]
  },
  {
   "attachments": {},
   "cell_type": "markdown",
   "metadata": {},
   "source": [
    "#### ResNet50"
   ]
  },
  {
   "cell_type": "code",
   "execution_count": 35,
   "metadata": {},
   "outputs": [
    {
     "name": "stderr",
     "output_type": "stream",
     "text": [
      "WARNING:absl:At this time, the v2.11+ optimizer `tf.keras.optimizers.Adam` runs slowly on M1/M2 Macs, please use the legacy Keras optimizer instead, located at `tf.keras.optimizers.legacy.Adam`.\n",
      "WARNING:absl:There is a known slowdown when using v2.11+ Keras optimizers on M1/M2 Macs. Falling back to the legacy Keras optimizer, i.e., `tf.keras.optimizers.legacy.Adam`.\n"
     ]
    },
    {
     "name": "stdout",
     "output_type": "stream",
     "text": [
      "Model: \"sequential_5\"\n",
      "_________________________________________________________________\n",
      " Layer (type)                Output Shape              Param #   \n",
      "=================================================================\n",
      " resnet50 (Functional)       (None, 7, 7, 2048)        23587712  \n",
      "                                                                 \n",
      " flatten (Flatten)           (None, 100352)            0         \n",
      "                                                                 \n",
      " dense_20 (Dense)            (None, 250)               25088250  \n",
      "                                                                 \n",
      " dense_21 (Dense)            (None, 100)               25100     \n",
      "                                                                 \n",
      " dense_22 (Dense)            (None, 20)                2020      \n",
      "                                                                 \n",
      " dense_23 (Dense)            (None, 10)                210       \n",
      "                                                                 \n",
      "=================================================================\n",
      "Total params: 48703292 (185.79 MB)\n",
      "Trainable params: 25115580 (95.81 MB)\n",
      "Non-trainable params: 23587712 (89.98 MB)\n",
      "_________________________________________________________________\n"
     ]
    }
   ],
   "source": [
    "# Load ResNet50 without the top layer, include ImageNet weights\n",
    "resnet = ResNet50(weights='imagenet', include_top=False, input_shape=(224, 224, 3))\n",
    "\n",
    "# Freeze the layers of ResNet50\n",
    "resnet.trainable = False\n",
    "\n",
    "model = Sequential([\n",
    "    resnet,\n",
    "    Flatten(),\n",
    "    Dense(250, activation='sigmoid'),\n",
    "    Dense(100, activation='sigmoid'), \n",
    "    Dense(20, activation='sigmoid'), \n",
    "    Dense(10, activation='softmax')  # For 10 classes\n",
    "])\n",
    "\n",
    "model.compile(optimizer=Adam(learning_rate=1e-3), loss='categorical_crossentropy', metrics=['accuracy'])\n",
    "model.summary()\n"
   ]
  },
  {
   "attachments": {},
   "cell_type": "markdown",
   "metadata": {},
   "source": [
    "#### Train"
   ]
  },
  {
   "cell_type": "code",
   "execution_count": 36,
   "metadata": {},
   "outputs": [
    {
     "name": "stdout",
     "output_type": "stream",
     "text": [
      "Epoch 1/3\n",
      "175/175 [==============================] - 185s 1s/step - loss: 1.6084 - accuracy: 0.7188 - val_loss: 1.0752 - val_accuracy: 0.9200\n",
      "Epoch 2/3\n",
      "175/175 [==============================] - 175s 999ms/step - loss: 0.8010 - accuracy: 0.9325 - val_loss: 0.6343 - val_accuracy: 0.9443\n",
      "Epoch 3/3\n",
      "175/175 [==============================] - 179s 1s/step - loss: 0.5035 - accuracy: 0.9536 - val_loss: 0.4378 - val_accuracy: 0.9507\n",
      "94/94 [==============================] - 88s 938ms/step - loss: 0.4457 - accuracy: 0.9480\n",
      "Test Accuracy: 0.9480000138282776\n"
     ]
    }
   ],
   "source": [
    "history = model.fit(X_train, Y_train, epochs=3, validation_split=0.2)\n",
    "\n",
    "test_loss, test_accuracy = model.evaluate(X_test, Y_test)\n",
    "print(f'Test Accuracy: {test_accuracy}')\n"
   ]
  },
  {
   "attachments": {},
   "cell_type": "markdown",
   "metadata": {},
   "source": [
    "#### Plotting Graph"
   ]
  },
  {
   "cell_type": "code",
   "execution_count": 37,
   "metadata": {},
   "outputs": [
    {
     "data": {
      "text/plain": [
       "[<matplotlib.lines.Line2D at 0x2c8a119d0>]"
      ]
     },
     "execution_count": 37,
     "metadata": {},
     "output_type": "execute_result"
    },
    {
     "data": {
      "image/png": "[encoded data removed]",
      "text/plain": [
       "<Figure size 640x480 with 1 Axes>"
      ]
     },
     "metadata": {},
     "output_type": "display_data"
    }
   ],
   "source": [
    "import matplotlib.pyplot as plt\n",
    "\n",
    "plt.plot(history.history['loss'])\n"
   ]
  },
  {
   "cell_type": "code",
   "execution_count": 38,
   "metadata": {},
   "outputs": [
    {
     "name": "stdout",
     "output_type": "stream",
     "text": [
      "94/94 - 82s - loss: 0.4457 - accuracy: 0.9480 - 82s/epoch - 873ms/step\n",
      "Test Accurracy: 0.9480000138282776\n",
      "Test Loss: 0.4456879794597626\n"
     ]
    }
   ],
   "source": [
    "test_loss, test_acc = model.evaluate(X_test, Y_test, verbose=2)\n",
    "print(\"Test Accurracy:\", test_acc)\n",
    "print(\"Test Loss:\", test_loss)"
   ]
  }
 ],
 "metadata": {
  "kernelspec": {
   "display_name": "Python 3",
   "language": "python",
   "name": "python3"
  },
  "language_info": {
   "codemirror_mode": {
    "name": "ipython",
    "version": 3
   },
   "file_extension": ".py",
   "mimetype": "text/x-python",
   "name": "python",
   "nbconvert_exporter": "python",
   "pygments_lexer": "ipython3",
   "version": "3.11.7"
  },
  "orig_nbformat": 4
 },
 "nbformat": 4,
 "nbformat_minor": 2
}
