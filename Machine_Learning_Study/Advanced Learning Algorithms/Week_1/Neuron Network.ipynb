{
 "cells": [
  {
   "attachments": {},
   "cell_type": "markdown",
   "metadata": {},
   "source": [
    "# Neuron Network\n",
    "\n",
    "- **Neuron Network**: Build up by multiple layers, each layer have nodes. And each node got a function called 'Activate Function\". And the input will be applied by this function to get output"
   ]
  },
  {
   "attachments": {},
   "cell_type": "markdown",
   "metadata": {},
   "source": [
    "### Neuron Network Types"
   ]
  },
  {
   "attachments": {},
   "cell_type": "markdown",
   "metadata": {},
   "source": [
    "#### Single Layer\n",
    "\n",
    "![Image](./image/SingleLayer.png)"
   ]
  },
  {
   "attachments": {},
   "cell_type": "markdown",
   "metadata": {},
   "source": [
    "#### Multiple Layer\n",
    "\n",
    "![Image](./image/MultipleLayer.png)"
   ]
  },
  {
   "attachments": {},
   "cell_type": "markdown",
   "metadata": {},
   "source": [
    "#### Layer Computation\n",
    "\n",
    "![Image](./image/HiddenLayer.png)\n",
    "\n",
    "- Each neuron in the hidden layer functions similarly to a machine learning module, equipped with its own set of parameters (weights $w$ and bias $b$), and computes an activation value $a$.\n",
    "\n",
    "- **Activation Function**: Utilizes the function. Ex: logistic function $g(z) = \\frac{1}{1 + e^{-z}}$, where $z = w \\cdot x + b$.\n",
    "\n",
    "- **Activation Values**: Each neuron outputs an activation value $a_i$, calculated from its function. These values represent more abstract features or concepts derived from the input features. The result of previous layer will be the input of the next layer. \n"
   ]
  },
  {
   "attachments": {},
   "cell_type": "markdown",
   "metadata": {},
   "source": [
    "### Example: Digit Number Recognizer"
   ]
  },
  {
   "attachments": {},
   "cell_type": "markdown",
   "metadata": {},
   "source": [
    "#### Import library"
   ]
  },
  {
   "cell_type": "code",
   "execution_count": 1,
   "metadata": {},
   "outputs": [],
   "source": [
    "import pandas as pd \n",
    "import numpy as np \n",
    "import tensorflow as tf \n",
    "from tensorflow.keras.layers import Input, Dense\n",
    "from tensorflow.keras.models import Sequential\n",
    "from tensorflow.keras.utils import to_categorical"
   ]
  },
  {
   "attachments": {},
   "cell_type": "markdown",
   "metadata": {},
   "source": [
    "#### Load Data"
   ]
  },
  {
   "cell_type": "code",
   "execution_count": 2,
   "metadata": {},
   "outputs": [
    {
     "name": "stdout",
     "output_type": "stream",
     "text": [
      "(29399, 784) (29399, 10)\n"
     ]
    }
   ],
   "source": [
    "data = pd.read_csv('./Dataset.csv')\n",
    "X_value = tf.convert_to_tensor(data.drop(['label'], axis = 1))\n",
    "Y_value = tf.convert_to_tensor(data['label'])\n",
    "Y_value = to_categorical(Y_value, num_classes=10)\n",
    "\n",
    "\n",
    "train_test_ratio = 0.7 \n",
    "\n",
    "X_train = X_value[:int(len(X_value) * train_test_ratio)]\n",
    "Y_train = Y_value[:int(len(Y_value) * train_test_ratio)]\n",
    "\n",
    "X_test = X_value[int(len(X_value) * train_test_ratio):]\n",
    "Y_test = Y_value[int(len(Y_value) * train_test_ratio):]\n",
    "\n",
    "print(X_train.shape, Y_train.shape)"
   ]
  },
  {
   "attachments": {},
   "cell_type": "markdown",
   "metadata": {},
   "source": [
    "#### Module Creation"
   ]
  },
  {
   "cell_type": "code",
   "execution_count": 3,
   "metadata": {},
   "outputs": [],
   "source": [
    "image_shape = (784)  \n",
    "\n",
    "model = Sequential([\n",
    "    Input(shape=image_shape),\n",
    "    Dense(250, activation='sigmoid'),\n",
    "    Dense(100, activation='sigmoid'), \n",
    "    Dense(20, activation='sigmoid'), \n",
    "    Dense(10, activation='softmax')\n",
    "])\n",
    "\n",
    "model.compile(loss='categorical_crossentropy', metrics=['accuracy'])"
   ]
  },
  {
   "attachments": {},
   "cell_type": "markdown",
   "metadata": {},
   "source": [
    "#### Train module"
   ]
  },
  {
   "cell_type": "code",
   "execution_count": 4,
   "metadata": {},
   "outputs": [
    {
     "name": "stdout",
     "output_type": "stream",
     "text": [
      "Epoch 1/10\n",
      "230/230 [==============================] - 1s 3ms/step - loss: 1.3171 - accuracy: 0.7488\n",
      "Epoch 2/10\n",
      "230/230 [==============================] - 1s 3ms/step - loss: 0.5374 - accuracy: 0.8986\n",
      "Epoch 3/10\n",
      "230/230 [==============================] - 1s 3ms/step - loss: 0.3342 - accuracy: 0.9182\n",
      "Epoch 4/10\n",
      "230/230 [==============================] - 1s 3ms/step - loss: 0.2648 - accuracy: 0.9297\n",
      "Epoch 5/10\n",
      "230/230 [==============================] - 1s 3ms/step - loss: 0.2283 - accuracy: 0.9359\n",
      "Epoch 6/10\n",
      "230/230 [==============================] - 1s 3ms/step - loss: 0.2062 - accuracy: 0.9416\n",
      "Epoch 7/10\n",
      "230/230 [==============================] - 1s 3ms/step - loss: 0.1895 - accuracy: 0.9457\n",
      "Epoch 8/10\n",
      "230/230 [==============================] - 1s 3ms/step - loss: 0.1771 - accuracy: 0.9496\n",
      "Epoch 9/10\n",
      "230/230 [==============================] - 1s 3ms/step - loss: 0.1728 - accuracy: 0.9499\n",
      "Epoch 10/10\n",
      "230/230 [==============================] - 1s 3ms/step - loss: 0.1597 - accuracy: 0.9531\n"
     ]
    }
   ],
   "source": [
    "history = model.fit(X_train, Y_train, epochs= 10, batch_size= 128)"
   ]
  },
  {
   "attachments": {},
   "cell_type": "markdown",
   "metadata": {},
   "source": [
    "#### Plotting Graph"
   ]
  },
  {
   "cell_type": "code",
   "execution_count": 5,
   "metadata": {},
   "outputs": [
    {
     "data": {
      "text/plain": [
       "[<matplotlib.lines.Line2D at 0x299134f90>]"
      ]
     },
     "execution_count": 5,
     "metadata": {},
     "output_type": "execute_result"
    },
    {
     "data": {
      "image/png": "[encoded data removed]",
      "text/plain": [
       "<Figure size 640x480 with 1 Axes>"
      ]
     },
     "metadata": {},
     "output_type": "display_data"
    }
   ],
   "source": [
    "import matplotlib.pyplot as plt\n",
    "plt.plot(history.history['loss'])"
   ]
  },
  {
   "cell_type": "code",
   "execution_count": 9,
   "metadata": {},
   "outputs": [
    {
     "name": "stdout",
     "output_type": "stream",
     "text": [
      "394/394 - 0s - loss: 0.1715 - accuracy: 0.9494 - 210ms/epoch - 532us/step\n",
      "Test Accurracy: 0.9494484663009644\n",
      "Test Loss: 0.17153391242027283\n"
     ]
    }
   ],
   "source": [
    "test_loss, test_acc = model.evaluate(X_test, Y_test, verbose=2)\n",
    "print(\"Test Accurracy:\", test_acc)\n",
    "print(\"Test Loss:\", test_loss)"
   ]
  }
 ],
 "metadata": {
  "kernelspec": {
   "display_name": "Python 3",
   "language": "python",
   "name": "python3"
  },
  "language_info": {
   "codemirror_mode": {
    "name": "ipython",
    "version": 3
   },
   "file_extension": ".py",
   "mimetype": "text/x-python",
   "name": "python",
   "nbconvert_exporter": "python",
   "pygments_lexer": "ipython3",
   "version": "3.11.7"
  },
  "orig_nbformat": 4
 },
 "nbformat": 4,
 "nbformat_minor": 2
}
