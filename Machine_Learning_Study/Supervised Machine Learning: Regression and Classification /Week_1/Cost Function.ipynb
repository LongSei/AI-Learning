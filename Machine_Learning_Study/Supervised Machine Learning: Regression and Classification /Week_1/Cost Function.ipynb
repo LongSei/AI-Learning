{
 "cells": [
  {
   "attachments": {},
   "cell_type": "markdown",
   "metadata": {},
   "source": [
    "# Cost Function"
   ]
  },
  {
   "attachments": {},
   "cell_type": "markdown",
   "metadata": {},
   "source": [
    "### Introduction to the Cost Function in Linear Regression\n",
    "\n",
    "![IntroImage](./image/SquareErrorCost.png)\n",
    "\n",
    "- **Linear Regression Model:** Utilizes a linear function $f_{w,b}(x) = wx + b$ to fit a training set, where $w$ and $b$ are the model's parameters (weights and bias).\n",
    "\n",
    "- **Parameters $w$ and $b$:** Variables adjusted during training to minimize the difference between the predicted outputs $\\hat{y}$ and actual targets $y$.\n",
    "\n",
    "- **Cost Function $J(w,b)$:**\n",
    "  - Measures how well the model fits the training data.\n",
    "  - Computes the average of the squared differences between predicted outputs $\\hat{y}$ and actual targets $y$.\n",
    "  - Defined as $J(w,b) = \\frac{1}{2m} \\sum_{i=1}^{m} (\\hat{y}^{(i)} - y^{(i)})^2$, where $m$ is the number of training examples.\n",
    "  - The goal is to find the values of $w and $b$ that minimize $J(w,b)$.\n",
    "\n"
   ]
  },
  {
   "attachments": {},
   "cell_type": "markdown",
   "metadata": {},
   "source": [
    "### Visualization (Optional)"
   ]
  }
 ],
 "metadata": {
  "language_info": {
   "name": "python"
  },
  "orig_nbformat": 4
 },
 "nbformat": 4,
 "nbformat_minor": 2
}
