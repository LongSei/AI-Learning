{
 "cells": [
  {
   "attachments": {},
   "cell_type": "markdown",
   "metadata": {},
   "source": [
    "# Linear Regression:\n",
    "  - Supervised learning involves mapping inputs (X) to outputs (Y) with known examples.\n",
    "  - Linear Regression, fitting a straight line to data, is a fundamental algorithm.\n",
    "  - Key concepts in linear regression apply broadly across machine learning."
   ]
  },
  {
   "attachments": {},
   "cell_type": "markdown",
   "metadata": {},
   "source": [
    "### Example: House Price Prediction\n",
    "\n",
    "![ExampleImage](./image/HousePriceLinearRegression.png)\n",
    "\n",
    "- **Scenario:** Predict house prices based on size in Portland, USA.\n",
    "- **Data Representation:**\n",
    "  - Horizontal Axis: House size (square feet).\n",
    "  - Vertical Axis: House price (thousands of dollars).\n",
    "  - Data Points: Each represents a house's size and its sale price."
   ]
  },
  {
   "attachments": {},
   "cell_type": "markdown",
   "metadata": {},
   "source": [
    "### **Definition and Application:**\n",
    "  - A type of regression model predicting a continuous output.\n",
    "  - Simplest form involves fitting a straight line to the data, known as univariate linear regression.\n",
    "  - Univariate linear regression, or linear regression with one variable, fits a linear function to predict **y** based on **x**.\n",
    "  - The linear model aims to find the best-fit line through the training data to predict the output.\n",
    "\n",
    "  - Formula: \n",
    "    - Linear function **f(x) = wx + b** is used, with **w** (weight) and **b** (bias) as parameters.\n",
    "    - **f** represents the model that predicts the output **y-hat** based on input **x**.\n",
    "    - **y-hat** is the prediction for the output, whereas **y** refers to the actual value in the training set.\n",
    "    - **f** is expressed as **f(x) = wx + b**, where **w** and **b** are parameters determining the model's predictions.\n"
   ]
  }
 ],
 "metadata": {
  "language_info": {
   "name": "python"
  },
  "orig_nbformat": 4
 },
 "nbformat": 4,
 "nbformat_minor": 2
}
