{
 "cells": [
  {
   "attachments": {},
   "cell_type": "markdown",
   "metadata": {},
   "source": [
    "# Unsupervised Learning\n",
    "\n",
    "    - Focuses on finding patterns or structure in data without output labels (Y). Unlike supervised learning, it does not aim to predict output based on input but to discover the intrinsic structure of data.\n"
   ]
  },
  {
   "attachments": {},
   "cell_type": "markdown",
   "metadata": {},
   "source": [
    "### Compare: Supervised and Unsupervised \n",
    "\n",
    "![CompareImage](./image/AlgoComparing.png)"
   ]
  },
  {
   "attachments": {},
   "cell_type": "markdown",
   "metadata": {},
   "source": [
    "# Clustering:\n",
    "    - A primary example of unsupervised learning where data is grouped into clusters based on similarities without predefined labels."
   ]
  },
  {
   "attachments": {},
   "cell_type": "markdown",
   "metadata": {},
   "source": [
    "### Clustering Example: Grouping customers\n",
    "\n",
    "![ExampleImage](./image/ClusteringExample.png)\n",
    "\n",
    "    - Uses clustering to analyze customer data, identifying distinct groups within the deep learning AI community with different motivations such as skill growth, career development, or staying updated on AI impacts."
   ]
  }
 ],
 "metadata": {
  "language_info": {
   "name": "python"
  },
  "orig_nbformat": 4
 },
 "nbformat": 4,
 "nbformat_minor": 2
}
