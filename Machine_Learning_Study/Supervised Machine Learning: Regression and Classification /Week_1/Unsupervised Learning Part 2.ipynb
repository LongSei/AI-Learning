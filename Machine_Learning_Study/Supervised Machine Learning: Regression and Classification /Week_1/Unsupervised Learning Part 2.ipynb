{
 "cells": [
  {
   "attachments": {},
   "cell_type": "markdown",
   "metadata": {},
   "source": [
    "### Types of Unsupervised Learning\n",
    "\n",
    "| Type                  | Description                                                                                          |\n",
    "|-----------------------|------------------------------------------------------------------------------------------------------|\n",
    "| **Clustering**        | Groups similar data points together based on their features to identify patterns or categories.      |\n",
    "| **Anomaly Detection** | Identifies unusual data points that deviate significantly from the majority of the data. Essential for applications like fraud detection in financial transactions. |\n",
    "| **Dimensionality Reduction** | Reduces the complexity of data, transforming it into a simpler form with fewer variables (dimensions), while preserving as much information as possible. |\n"
   ]
  }
 ],
 "metadata": {
  "language_info": {
   "name": "python"
  },
  "orig_nbformat": 4
 },
 "nbformat": 4,
 "nbformat_minor": 2
}
