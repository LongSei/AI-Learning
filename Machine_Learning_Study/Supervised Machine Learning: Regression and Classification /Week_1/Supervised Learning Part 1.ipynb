{
 "cells": [
  {
   "attachments": {},
   "cell_type": "markdown",
   "metadata": {},
   "source": [
    "# Supervised Machine Learning: Overview and Applications\n",
    "\n",
    "- **Definition:** Algorithms learn from given input-output pairs (x to y mappings), with examples provided for learning.\n",
    "- **Key Feature:** Learning algorithms are fed with correct pairs (input x and desired output label y) to predict outputs for new inputs."
   ]
  },
  {
   "attachments": {},
   "cell_type": "markdown",
   "metadata": {},
   "source": [
    "### Examples of Supervised Learning\n",
    "| No. | Application             | Input                         | Output                             | Additional Information                |\n",
    "|-----|--------------------------|-------------------------------|------------------------------------|----------------------------------------|\n",
    "| 1   | **Spam Detection**       | Email                         | Spam or Not Spam                   |                                        |\n",
    "| 2   | **Speech Recognition**   | Audio Clip                    | Text Transcript                    |                                        |\n",
    "| 3   | **Machine Translation**  | Text in one language (e.g., English) | Translation in another language (e.g., Spanish, Arabic) | |\n",
    "| 4   | **Online Advertising**   | Ad information and user information | Prediction of user clicking the ad | Economic Impact: Significant, drives revenue through ad clicks. |\n",
    "| 5   | **Self-Driving Cars**    | Image and sensor data         | Positions of other cars for navigation |                                      |\n",
    "| 6   | **Manufacturing (Visual Inspection)** | Image of a product (e.g., cell phone) | Presence of defects (e.g., scratch, dent) |  |"
   ]
  },
  {
   "attachments": {},
   "cell_type": "markdown",
   "metadata": {},
   "source": [
    "### Training Process\n",
    "\n",
    "- Models are trained with examples of inputs (x) and correct labels (y).\n",
    "- After learning from these pairs, models predict outputs (y) for new inputs (x)."
   ]
  },
  {
   "attachments": {},
   "cell_type": "markdown",
   "metadata": {},
   "source": [
    "# Regression:"
   ]
  },
  {
   "attachments": {},
   "cell_type": "markdown",
   "metadata": {},
   "source": [
    "### Regression Example: Housing Price Prediction\n",
    "\n",
    "![RegressionExample(2)](./image/HousePriceRegression.png)\n",
    "\n",
    "- **Objective:** Predict house prices based on size.\n",
    "- **Data Representation:** Size of house (input) vs. Price (output) plotted.\n",
    "- **Approaches:**\n",
    "  - Linear regression (straight line fit)\n",
    "  - Non-linear regression (curve fit)\n",
    "- **Application:** Helps in predicting the sale price of houses based on size, demonstrating the regression aspect of supervised learning."
   ]
  },
  {
   "attachments": {},
   "cell_type": "markdown",
   "metadata": {},
   "source": [
    "### Terminology\n",
    "\n",
    "- **Regression:** Predicting a numerical value from a range of possible values (e.g., house prices).\n",
    "- **Classification:** Predicting a category or class from a set of discrete options (to be discussed further)."
   ]
  }
 ],
 "metadata": {
  "language_info": {
   "name": "python"
  },
  "orig_nbformat": 4
 },
 "nbformat": 4,
 "nbformat_minor": 2
}
