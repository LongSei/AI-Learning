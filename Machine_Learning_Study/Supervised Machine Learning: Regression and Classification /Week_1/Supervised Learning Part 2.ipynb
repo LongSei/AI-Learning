{
 "cells": [
  {
   "attachments": {},
   "cell_type": "markdown",
   "metadata": {},
   "source": [
    "# Classification:"
   ]
  },
  {
   "attachments": {},
   "cell_type": "markdown",
   "metadata": {},
   "source": [
    "### Example: Predicting Tumor Type\n",
    "\n",
    "![Example](./image/TumorPredict.png)\n",
    "\n",
    "- **Inputs:** Multiple can be used, such as age and tumor size, to improve prediction accuracy.\n",
    "- **Visualization:** Data can be plotted to show relationships and help find boundaries for classification.\n",
    "- **Learning Task:** Algorithm determines a boundary to separate different classifications (e.g., malignant from benign)."
   ]
  },
  {
   "attachments": {},
   "cell_type": "markdown",
   "metadata": {},
   "source": [
    "# Regression and Classification Comparing"
   ]
  },
  {
   "attachments": {},
   "cell_type": "markdown",
   "metadata": {},
   "source": [
    "### Key Differences Between Regression and Classification\n",
    "\n",
    "| Aspect        | Regression                                       | Classification                                 |\n",
    "|---------------|--------------------------------------------------|------------------------------------------------|\n",
    "| **Objective** | Aims to predict a continuous range of numbers.  | Targets a finite set of categories (e.g., benign or malignant). |"
   ]
  },
  {
   "attachments": {},
   "cell_type": "markdown",
   "metadata": {},
   "source": [
    "### Summary: Regression & Classification\n",
    "\n",
    "| Aspect       | Regression                                   | Classification                             |\n",
    "|--------------|----------------------------------------------|--------------------------------------------|\n",
    "| **Types**    | Predicts a value within a continuous range.  | Predicts a category from a limited set of options. |\n",
    "| **Examples** | House price prediction, Stock price,...                   | Tumor type prediction (benign or malignant), Dog or Cat,... |\n"
   ]
  }
 ],
 "metadata": {
  "language_info": {
   "name": "python"
  },
  "orig_nbformat": 4
 },
 "nbformat": 4,
 "nbformat_minor": 2
}
