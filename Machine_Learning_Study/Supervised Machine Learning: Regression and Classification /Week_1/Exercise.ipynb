{
 "cells": [
  {
   "attachments": {},
   "cell_type": "markdown",
   "metadata": {},
   "source": [
    "# Implementing Gradient Descent for Linear Regression\n",
    "\n",
    "#### Overview\n",
    "- **Goal**: Train a linear regression model using the squared error cost function and gradient descent to fit a straight line through training data.\n",
    "\n",
    "#### Components\n",
    "- **Linear Regression Model**: Predicts outcomes based on input features.\n",
    "- **Squared Error Cost Function**: Measures the model's prediction error.\n",
    "- **Gradient Descent Algorithm**: Optimizes the model's parameters to minimize the cost function."
   ]
  },
  {
   "attachments": {},
   "cell_type": "markdown",
   "metadata": {},
   "source": [
    "# Excercise"
   ]
  },
  {
   "attachments": {},
   "cell_type": "markdown",
   "metadata": {},
   "source": [
    "# Read Data"
   ]
  },
  {
   "cell_type": "code",
   "execution_count": 64,
   "metadata": {},
   "outputs": [],
   "source": [
    "import numpy as np \n",
    "import pandas as pd\n",
    "\n",
    "data = pd.read_csv('./Dataset.csv')"
   ]
  },
  {
   "attachments": {},
   "cell_type": "markdown",
   "metadata": {},
   "source": [
    "### Split Dataset"
   ]
  },
  {
   "cell_type": "code",
   "execution_count": 65,
   "metadata": {},
   "outputs": [
    {
     "name": "stdout",
     "output_type": "stream",
     "text": [
      "[5.91013086] 4.714614608003876\n",
      "[1.89087242] 2.905478374301235\n"
     ]
    }
   ],
   "source": [
    "X_value = np.array(data[['X']])\n",
    "y_value = np.array(data['y'])\n",
    "\n",
    "SplitRatio = 0.7\n",
    "\n",
    "X_train = X_value[:int(len(X_value) / 2 * SplitRatio)]\n",
    "y_train = y_value[:int(len(y_value) / 2 * SplitRatio)]\n",
    "\n",
    "X_test = X_value[int(len(X_value) / 2 * SplitRatio):]\n",
    "y_test = y_value[int(len(y_value) / 2 * SplitRatio):]\n",
    "\n",
    "print(X_train[0], y_train[0])\n",
    "print(X_test[0], y_test[0])"
   ]
  },
  {
   "attachments": {},
   "cell_type": "markdown",
   "metadata": {},
   "source": [
    "### Algorithm function"
   ]
  },
  {
   "cell_type": "code",
   "execution_count": 66,
   "metadata": {},
   "outputs": [],
   "source": [
    "class LinearRegression(): \n",
    "    def __init__(self, size_variable) -> None:\n",
    "        self.learning_rate = 0.001\n",
    "        self.W = np.ones(size_variable)\n",
    "        self.b = 0.01\n",
    "        \n",
    "    def compute_cost(self, X, y):\n",
    "        \"\"\"\n",
    "        Compute the cost function.\n",
    "        \n",
    "        Parameters:\n",
    "        - X: Matrix of predictors, including the intercept.\n",
    "        - y: Vector of the outcome variable.\n",
    "        \n",
    "        Returns:\n",
    "        - The cost using the current set of coefficients.\n",
    "        \"\"\"\n",
    "        m = len(y)\n",
    "        predictions = X.dot(self.W) + self.b\n",
    "        cost = (1/(2*m)) * np.sum((predictions - y) ** 2)\n",
    "        return cost\n",
    "\n",
    "    def gradient_descent(self, X, y, batch_size: int=10):\n",
    "        \"\"\"\n",
    "        Perform gradient descent to learn theta.\n",
    "        \n",
    "        Parameters:\n",
    "        - X: Matrix of predictors, including the intercept.\n",
    "        - y: Vector of the outcome variable.\n",
    "        - batch_size: Number of iterations.\n",
    "        \n",
    "        Returns:\n",
    "        - The final coefficients and history of cost function values.\n",
    "        \"\"\"\n",
    "        cost_history = []\n",
    "        m = len(y)\n",
    "        for epoch in range(batch_size):\n",
    "            prediction = np.dot(X, self.W) + self.b\n",
    "            self.W = self.W - self.learning_rate * 1/m * np.dot(X.T, (prediction - y))\n",
    "            self.b = self.b - self.learning_rate * 1/m * np.sum(prediction - y)\n",
    "            current_cost = self.compute_cost(X, y)\n",
    "            cost_history.append(current_cost)\n",
    "            \n",
    "        return cost_history"
   ]
  },
  {
   "attachments": {},
   "cell_type": "markdown",
   "metadata": {},
   "source": [
    "# Train Model"
   ]
  },
  {
   "cell_type": "code",
   "execution_count": 67,
   "metadata": {},
   "outputs": [],
   "source": [
    "algorithm = LinearRegression(len(X_train[0]))\n",
    "cost_result = algorithm.gradient_descent(X_train, y_train, 100000)"
   ]
  },
  {
   "cell_type": "code",
   "execution_count": 68,
   "metadata": {},
   "outputs": [
    {
     "data": {
      "image/png": "[encoded data removed]",
      "text/plain": [
       "<Figure size 640x480 with 1 Axes>"
      ]
     },
     "metadata": {},
     "output_type": "display_data"
    },
    {
     "data": {
      "text/plain": [
       "[<matplotlib.lines.Line2D at 0x124ddd7d0>]"
      ]
     },
     "execution_count": 68,
     "metadata": {},
     "output_type": "execute_result"
    },
    {
     "data": {
      "image/png": "[encoded data removed]",
      "text/plain": [
       "<Figure size 640x480 with 1 Axes>"
      ]
     },
     "metadata": {},
     "output_type": "display_data"
    }
   ],
   "source": [
    "import matplotlib.pyplot as plt\n",
    "y_predict = X_value.dot(algorithm.W) + algorithm.b\n",
    "plt.plot(X_value, y_predict, color='orange')\n",
    "plt.scatter(X_value, y_value, color='blue')\n",
    "plt.show()\n",
    "plt.plot(cost_result)"
   ]
  }
 ],
 "metadata": {
  "kernelspec": {
   "display_name": "Python 3",
   "language": "python",
   "name": "python3"
  },
  "language_info": {
   "codemirror_mode": {
    "name": "ipython",
    "version": 3
   },
   "file_extension": ".py",
   "mimetype": "text/x-python",
   "name": "python",
   "nbconvert_exporter": "python",
   "pygments_lexer": "ipython3",
   "version": "3.11.7"
  },
  "orig_nbformat": 4
 },
 "nbformat": 4,
 "nbformat_minor": 2
}
