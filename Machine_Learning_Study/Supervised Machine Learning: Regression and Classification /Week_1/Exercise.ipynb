{
 "cells": [
  {
   "attachments": {},
   "cell_type": "markdown",
   "metadata": {},
   "source": [
    "# Implementing Gradient Descent for Linear Regression\n",
    "\n",
    "#### Overview\n",
    "- **Goal**: Train a linear regression model using the squared error cost function and gradient descent to fit a straight line through training data.\n",
    "\n",
    "#### Components\n",
    "- **Linear Regression Model**: Predicts outcomes based on input features.\n",
    "- **Squared Error Cost Function**: Measures the model's prediction error.\n",
    "- **Gradient Descent Algorithm**: Optimizes the model's parameters to minimize the cost function."
   ]
  },
  {
   "attachments": {},
   "cell_type": "markdown",
   "metadata": {},
   "source": [
    "# Excercise"
   ]
  },
  {
   "attachments": {},
   "cell_type": "markdown",
   "metadata": {},
   "source": [
    "# Read Data"
   ]
  },
  {
   "cell_type": "code",
   "execution_count": 66,
   "metadata": {},
   "outputs": [],
   "source": [
    "import numpy as np \n",
    "import pandas as pd\n",
    "\n",
    "data = pd.read_csv('./Dataset.csv')"
   ]
  },
  {
   "attachments": {},
   "cell_type": "markdown",
   "metadata": {},
   "source": [
    "### Split Dataset"
   ]
  },
  {
   "cell_type": "code",
   "execution_count": 67,
   "metadata": {},
   "outputs": [
    {
     "name": "stdout",
     "output_type": "stream",
     "text": [
      "[5.91013086] 4.714614608003876\n",
      "[1.89087242] 2.905478374301235\n"
     ]
    }
   ],
   "source": [
    "X_value = np.array(data[['X']])\n",
    "y_value = np.array(data['y'])\n",
    "\n",
    "SplitRatio = 0.7\n",
    "\n",
    "X_train = X_value[:int(len(X_value) / 2 * SplitRatio)]\n",
    "y_train = y_value[:int(len(y_value) / 2 * SplitRatio)]\n",
    "\n",
    "X_test = X_value[int(len(X_value) / 2 * SplitRatio):]\n",
    "y_test = y_value[int(len(y_value) / 2 * SplitRatio):]\n",
    "\n",
    "print(X_train[0], y_train[0])\n",
    "print(X_test[0], y_test[0])"
   ]
  },
  {
   "attachments": {},
   "cell_type": "markdown",
   "metadata": {},
   "source": [
    "### Algorithm function"
   ]
  },
  {
   "cell_type": "code",
   "execution_count": 68,
   "metadata": {},
   "outputs": [],
   "source": [
    "class LinearRegression(): \n",
    "    def __init__(self, size_variable) -> None:\n",
    "        self.learning_rate = 0.01\n",
    "        self.W = np.ones(size_variable)\n",
    "        self.b = 0.01\n",
    "        \n",
    "    def compute_cost(self, X, y):\n",
    "        \"\"\"\n",
    "        Compute the cost function.\n",
    "        \n",
    "        Parameters:\n",
    "        - X: Matrix of predictors, including the intercept.\n",
    "        - y: Vector of the outcome variable.\n",
    "        - W: Vector of linear regression weights\n",
    "        - b: Bias of linear regression \n",
    "        \n",
    "        Returns:\n",
    "        - The cost using the current set of coefficients.\n",
    "        \"\"\"\n",
    "        m = len(y)\n",
    "        predictions = X.dot(self.W) + self.b\n",
    "        cost = (1/(2*m)) * np.sum((predictions - y) ** 2)\n",
    "        return cost\n",
    "\n",
    "    def gradient_descent(self, X, y, batch_size: int=10):\n",
    "        \"\"\"\n",
    "        Perform gradient descent to learn theta.\n",
    "        \n",
    "        Parameters:\n",
    "        - X: Matrix of predictors, including the intercept.\n",
    "        - y: Vector of the outcome variable.\n",
    "        - theta: Initial vector of coefficients (including intercept).\n",
    "        - learning_rate: Learning rate.\n",
    "        - iterations: Number of iterations.\n",
    "        \n",
    "        Returns:\n",
    "        - The final coefficients and history of cost function values.\n",
    "        \"\"\"\n",
    "        cost_history = []\n",
    "        m = len(y)\n",
    "        for epoch in range(batch_size):\n",
    "            prediction = np.dot(X, self.W) + self.b\n",
    "            self.W = self.W - (1/m) * self.learning_rate * 1/m * np.dot(X.T, (prediction - y))\n",
    "            self.b = self.b - (1/m) * self.learning_rate * 1/m * np.sum(prediction - y)\n",
    "            current_cost = self.compute_cost(X, y)\n",
    "            print(\"Iteration ({epoch})\".format(epoch=epoch) + \": \", current_cost)\n",
    "            cost_history.append(current_cost)\n",
    "            \n",
    "        return cost_history"
   ]
  },
  {
   "attachments": {},
   "cell_type": "markdown",
   "metadata": {},
   "source": [
    "# Train Model"
   ]
  },
  {
   "cell_type": "code",
   "execution_count": 69,
   "metadata": {},
   "outputs": [
    {
     "name": "stdout",
     "output_type": "stream",
     "text": [
      "Iteration (0):  2.237862453903671\n",
      "Iteration (1):  2.232825683011405\n",
      "Iteration (2):  2.2278231325868596\n",
      "Iteration (3):  2.2228545470687004\n",
      "Iteration (4):  2.2179196728126005\n",
      "Iteration (5):  2.213018258076853\n",
      "Iteration (6):  2.2081500530080964\n",
      "Iteration (7):  2.203314809627154\n",
      "Iteration (8):  2.198512281814967\n",
      "Iteration (9):  2.193742225298637\n",
      "Iteration (10):  2.189004397637583\n",
      "Iteration (11):  2.184298558209783\n",
      "Iteration (12):  2.1796244681981407\n",
      "Iteration (13):  2.174981890576938\n",
      "Iteration (14):  2.1703705900983934\n",
      "Iteration (15):  2.165790333279331\n",
      "Iteration (16):  2.1612408883879306\n",
      "Iteration (17):  2.156722025430596\n",
      "Iteration (18):  2.15223351613891\n",
      "Iteration (19):  2.147775133956694\n",
      "Iteration (20):  2.1433466540271566\n",
      "Iteration (21):  2.138947853180149\n",
      "Iteration (22):  2.1345785099195096\n",
      "Iteration (23):  2.1302384044105023\n",
      "Iteration (24):  2.125927318467353\n",
      "Iteration (25):  2.1216450355408774\n",
      "Iteration (26):  2.117391340706206\n",
      "Iteration (27):  2.1131660206505907\n",
      "Iteration (28):  2.108968863661316\n",
      "Iteration (29):  2.1047996596136924\n",
      "Iteration (30):  2.1006581999591396\n",
      "Iteration (31):  2.0965442777133645\n",
      "Iteration (32):  2.0924576874446235\n",
      "Iteration (33):  2.0883982252620767\n",
      "Iteration (34):  2.084365688804224\n",
      "Iteration (35):  2.080359877227434\n",
      "Iteration (36):  2.0763805911945505\n",
      "Iteration (37):  2.0724276328635987\n",
      "Iteration (38):  2.0685008058765604\n",
      "Iteration (39):  2.064599915348243\n",
      "Iteration (40):  2.0607247678552283\n",
      "Iteration (41):  2.056875171424908\n",
      "Iteration (42):  2.053050935524596\n",
      "Iteration (43):  2.049251871050726\n",
      "Iteration (44):  2.0454777903181327\n",
      "Iteration (45):  2.0417285070494033\n",
      "Iteration (46):  2.038003836364321\n",
      "Iteration (47):  2.0343035947693835\n",
      "Iteration (48):  2.0306276001473913\n",
      "Iteration (49):  2.026975671747132\n",
      "Iteration (50):  2.0233476301731237\n",
      "Iteration (51):  2.019743297375448\n",
      "Iteration (52):  2.0161624966396543\n",
      "Iteration (53):  2.012605052576738\n",
      "Iteration (54):  2.009070791113198\n",
      "Iteration (55):  2.005559539481168\n",
      "Iteration (56):  2.0020711262086173\n",
      "Iteration (57):  1.9986053811096325\n",
      "Iteration (58):  1.9951621352747675\n",
      "Iteration (59):  1.991741221061465\n",
      "Iteration (60):  1.988342472084551\n",
      "Iteration (61):  1.9849657232068048\n",
      "Iteration (62):  1.9816108105295926\n",
      "Iteration (63):  1.9782775713835783\n",
      "Iteration (64):  1.9749658443194955\n",
      "Iteration (65):  1.9716754690990002\n",
      "Iteration (66):  1.9684062866855778\n",
      "Iteration (67):  1.9651581392355373\n",
      "Iteration (68):  1.9619308700890496\n",
      "Iteration (69):  1.958724323761275\n",
      "Iteration (70):  1.955538345933543\n",
      "Iteration (71):  1.952372783444604\n",
      "Iteration (72):  1.949227484281947\n",
      "Iteration (73):  1.9461022975731797\n",
      "Iteration (74):  1.9429970735774735\n",
      "Iteration (75):  1.9399116636770766\n",
      "Iteration (76):  1.9368459203688875\n",
      "Iteration (77):  1.9337996972560907\n",
      "Iteration (78):  1.930772849039857\n",
      "Iteration (79):  1.9277652315111062\n",
      "Iteration (80):  1.9247767015423332\n",
      "Iteration (81):  1.9218071170794888\n",
      "Iteration (82):  1.9188563371339293\n",
      "Iteration (83):  1.9159242217744252\n",
      "Iteration (84):  1.9130106321192224\n",
      "Iteration (85):  1.9101154303281718\n",
      "Iteration (86):  1.9072384795949155\n",
      "Iteration (87):  1.904379644139127\n",
      "Iteration (88):  1.9015387891988171\n",
      "Iteration (89):  1.8987157810226931\n",
      "Iteration (90):  1.895910486862574\n",
      "Iteration (91):  1.8931227749658648\n",
      "Iteration (92):  1.8903525145680902\n",
      "Iteration (93):  1.887599575885477\n",
      "Iteration (94):  1.8848638301076002\n",
      "Iteration (95):  1.8821451493900772\n",
      "Iteration (96):  1.8794434068473205\n",
      "Iteration (97):  1.8767584765453469\n",
      "Iteration (98):  1.8740902334946363\n",
      "Iteration (99):  1.8714385536430431\n"
     ]
    }
   ],
   "source": [
    "algorithm = LinearRegression(len(X_train[0]))\n",
    "result = algorithm.gradient_descent(X_train, y_train, 100)"
   ]
  },
  {
   "cell_type": "code",
   "execution_count": 70,
   "metadata": {},
   "outputs": [
    {
     "data": {
      "text/plain": [
       "<matplotlib.collections.PathCollection at 0x12f8e1010>"
      ]
     },
     "execution_count": 70,
     "metadata": {},
     "output_type": "execute_result"
    },
    {
     "data": {
      "image/png": "[encoded data removed]",
      "text/plain": [
       "<Figure size 640x480 with 1 Axes>"
      ]
     },
     "metadata": {},
     "output_type": "display_data"
    }
   ],
   "source": [
    "import matplotlib.pyplot as plt\n",
    "plt.scatter(X_value, y_value)\n",
    "plt.show()\n",
    "plt.plot(result)"
   ]
  }
 ],
 "metadata": {
  "kernelspec": {
   "display_name": "Python 3",
   "language": "python",
   "name": "python3"
  },
  "language_info": {
   "codemirror_mode": {
    "name": "ipython",
    "version": 3
   },
   "file_extension": ".py",
   "mimetype": "text/x-python",
   "name": "python",
   "nbconvert_exporter": "python",
   "pygments_lexer": "ipython3",
   "version": "3.11.7"
  },
  "orig_nbformat": 4
 },
 "nbformat": 4,
 "nbformat_minor": 2
}
