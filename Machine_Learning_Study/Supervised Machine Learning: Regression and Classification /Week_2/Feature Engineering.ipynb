{
 "cells": [
  {
   "attachments": {},
   "cell_type": "markdown",
   "metadata": {},
   "source": [
    "# Feature Engineering\n",
    "\n",
    "![Image](./image/FeatureEngineering.png)"
   ]
  },
  {
   "attachments": {},
   "cell_type": "markdown",
   "metadata": {},
   "source": [
    "### Definition\n",
    "- **Feature Engineering** is the process of using domain knowledge to extract features (characteristics, properties, attributes) from raw data. These features can then improve the performance of machine learning algorithms by making the data more suitable for modeling."
   ]
  },
  {
   "attachments": {},
   "cell_type": "markdown",
   "metadata": {},
   "source": [
    "### Importance\n",
    "- **Improves Model Accuracy**: Proper feature engineering can significantly enhance the predictive power of machine learning models by providing them with relevant information that may not be readily available in the raw data.\n",
    "- **Reduces Model Complexity**: By selecting and engineering the right features, models can become simpler and faster, which often makes them easier to understand, implement, and maintain.\n",
    "- **Enhances Data Understanding**: The process of identifying and creating new features requires a deep dive into the data, often leading to better insights into its structure and the relationships between different variables. This improved understanding can be critical for addressing the problem at hand effectively.\n"
   ]
  }
 ],
 "metadata": {
  "language_info": {
   "name": "python"
  },
  "orig_nbformat": 4
 },
 "nbformat": 4,
 "nbformat_minor": 2
}
