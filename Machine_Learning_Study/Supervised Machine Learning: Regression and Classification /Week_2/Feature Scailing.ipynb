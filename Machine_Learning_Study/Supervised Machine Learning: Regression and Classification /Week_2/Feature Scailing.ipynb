{
 "cells": [
  {
   "attachments": {},
   "cell_type": "markdown",
   "metadata": {},
   "source": [
    "# Feature Scailing"
   ]
  },
  {
   "attachments": {},
   "cell_type": "markdown",
   "metadata": {},
   "source": [
    "### Why we need faeture scailing ?\n",
    "- With Gradient Descent, we want all the weight will have the same effect to the whole function's result. Hence, when a feature have the much bigger or much smaller than some other features. Its weight will have much effect\n",
    "\n",
    "![Image](./image/FeatureScaling.png)\n",
    "\n",
    "\n",
    "$-->$ As the result, we must to recale it (smaller or larger) for the purpose that all the weights have the same effect. "
   ]
  },
  {
   "attachments": {},
   "cell_type": "markdown",
   "metadata": {},
   "source": [
    "### Feature Scaling Types"
   ]
  },
  {
   "attachments": {},
   "cell_type": "markdown",
   "metadata": {},
   "source": [
    "| Feature | Z-score Normalization (Standardization) | Mean Normalization |\n",
    "|---------|------------------------------------------|--------------------|\n",
    "| **Formula** | $\\frac{x - \\text{mean}(X)}{\\text{std}(X)}$ | $\\frac{x - \\text{mean}(X)}{\\text{max}(X) - \\text{min}(X)}$ |\n",
    "| **Purpose** | Scales features to have a mean of 0 and a standard deviation of 1. | Scales features to have a mean of 0, but does not scale the standard deviation. |\n"
   ]
  }
 ],
 "metadata": {
  "language_info": {
   "name": "python"
  },
  "orig_nbformat": 4
 },
 "nbformat": 4,
 "nbformat_minor": 2
}
