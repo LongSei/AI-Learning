{
 "cells": [
  {
   "attachments": {},
   "cell_type": "markdown",
   "metadata": {},
   "source": [
    "# Gradient Descent Checking"
   ]
  },
  {
   "attachments": {},
   "cell_type": "markdown",
   "metadata": {},
   "source": [
    "### Mathematic Behind \n",
    "- Gradient Descent apllied for the purpose to decrease the cost function $->$ After each iteration, the cost function must deacrease \n",
    "- But the algorithm can not fit all the point exactly $->$ after a specific amount of iterations, the cost function will converge to 0\n",
    "\n",
    "![Image](./image/GradientDescentCheck.png)"
   ]
  }
 ],
 "metadata": {
  "language_info": {
   "name": "python"
  },
  "orig_nbformat": 4
 },
 "nbformat": 4,
 "nbformat_minor": 2
}
