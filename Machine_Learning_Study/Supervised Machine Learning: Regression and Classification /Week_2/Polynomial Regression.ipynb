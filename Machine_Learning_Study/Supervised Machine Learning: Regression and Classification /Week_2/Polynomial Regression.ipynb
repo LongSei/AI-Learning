{
 "cells": [
  {
   "attachments": {},
   "cell_type": "markdown",
   "metadata": {},
   "source": [
    "# Polynomial Regression\n",
    "\n",
    "![Image](./image/PolynomialRegression.png)"
   ]
  },
  {
   "attachments": {},
   "cell_type": "markdown",
   "metadata": {},
   "source": [
    "| Feature                | Linear Regression                                  | Polynomial Regression                                  |\n",
    "|------------------------|----------------------------------------------------|--------------------------------------------------------|\n",
    "| **Formula**            | $y = \\beta_0 + \\beta_1x_1 + \\epsilon$            | $y = \\beta_0 + \\beta_1x_1 + \\beta_2x_1^2 + ... + \\beta_nx_1^n + \\epsilon$ |\n",
    "| **Model Complexity**   | Low                                                | High (depends on degree)                               |\n",
    "| **Flexibility**        | Limited to linear relationships                    | High, can model nonlinear relationships                |\n",
    "| **Risk of Overfitting**| Lower                                              | Higher, especially with higher degrees                 |\n",
    "| **Advantages**         | - Simple and easy to interpret.<br>- Less prone to overfitting.<br>- Efficient computation. | - Can model non-linear relationships.<br>- More flexible in fitting the data. |\n",
    "| **Disadvantages**      | - Assumes a linear relationship between variables, which might be unrealistic in many cases.<br>- Can underfit the data if the relationship is not linear. | - More prone to overfitting with high-degree polynomials.<br>- Computationally more intensive.<br>- Harder to interpret. |\n",
    "| **Use Cases**          | - Predictive modeling where relationships are linear | - Predictive modeling where relationships are nonlinear  |\n"
   ]
  }
 ],
 "metadata": {
  "language_info": {
   "name": "python"
  },
  "orig_nbformat": 4
 },
 "nbformat": 4,
 "nbformat_minor": 2
}
