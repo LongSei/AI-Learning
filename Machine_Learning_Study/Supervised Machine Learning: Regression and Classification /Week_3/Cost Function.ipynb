{
 "cells": [
  {
   "attachments": {},
   "cell_type": "markdown",
   "metadata": {},
   "source": [
    "# Cost Function for Logistic Regression\n"
   ]
  },
  {
   "attachments": {},
   "cell_type": "markdown",
   "metadata": {},
   "source": [
    "### Why not Mean Square Error ? \n",
    "\n",
    "- **Multiple Local Minima**: The combination of the sigmoid's non-linear transformation and the MSE's squaring operation results in a loss surface that is not smooth and convex\n",
    "\n",
    "- **Optimization Challenges**: With Gradient Descent, the function have multiple local minima is hard to find the best way to optimize the function."
   ]
  },
  {
   "attachments": {},
   "cell_type": "markdown",
   "metadata": {},
   "source": [
    "### Formula\n",
    "#### Origin Version: \n",
    "\n",
    "![Image](./image/LossFunction.png)\n",
    "\n",
    "#### Optimal Version\n",
    "\n",
    "![Image](./image/OptimizeLossFunction.png)\n",
    "\n",
    "#### Cost Function\n",
    "\n",
    "![Image](./image/CostFunction.png)"
   ]
  }
 ],
 "metadata": {
  "language_info": {
   "name": "python"
  },
  "orig_nbformat": 4
 },
 "nbformat": 4,
 "nbformat_minor": 2
}
