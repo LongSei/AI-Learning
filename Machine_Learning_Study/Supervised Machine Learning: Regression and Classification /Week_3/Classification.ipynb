{
 "cells": [
  {
   "attachments": {},
   "cell_type": "markdown",
   "metadata": {},
   "source": [
    "# Classification"
   ]
  },
  {
   "attachments": {},
   "cell_type": "markdown",
   "metadata": {},
   "source": [
    "### Understanding Classification\n",
    "- **Definition**: Classification problems involve predicting an output variable **y** that can only take on a limited set of values, contrasting with linear regression's infinite range.\n",
    "- **Inadequacy of Linear Regression**: Linear regression is not suited for classification due to its continuous nature and inability to directly model binary outcomes.\n"
   ]
  },
  {
   "attachments": {},
   "cell_type": "markdown",
   "metadata": {},
   "source": [
    "# Binary Classification\n",
    "- **Binary Classification**: Involves predicting **y** with only two possible values (e.g., yes/no, true/false, 0/1).\n",
    "  - **Examples**: Identifying spam emails, detecting fraudulent transactions, classifying tumors as malignant or benign.\n",
    "- **Terminology**: \n",
    "  - \"Class\" and \"category\" are used interchangeably.\n",
    "  - Common representations: no/yes, false/true, 0/1, with 0 often denoting the negative class (absence) and 1 the positive class (presence).\n",
    "  - **Negative and Positive Classes**: Context-based designation, not implying good or bad but absence (0) or presence (1) of a characteristic."
   ]
  },
  {
   "attachments": {},
   "cell_type": "markdown",
   "metadata": {},
   "source": [
    "### Why we can't use Linear Regression for Classification ?\n",
    "![Image](./image/LinearRegressionProblem.png)\n",
    "\n",
    "- **Problem with Linear Regression for Classification**:  \n",
    "  - Linear regression's predictions can extend beyond 0 and 1, making it unsuitable for binary outcomes.\n",
    "  - Adding a new data point can significantly alter the decision boundary, leading to incorrect classifications."
   ]
  },
  {
   "attachments": {},
   "cell_type": "markdown",
   "metadata": {},
   "source": [
    "### Binary Classification Types\n",
    "- **Logistic Regression**: A model where the output always lies between 0 and 1, specifically designed to overcome the limitations of linear regression in classification tasks.\n",
    "\n",
    "- **Decision Boundary**: Logistic regression introduces a concept called the decision boundary, effectively distinguishing between classes without being affected by outliers as linear regression is."
   ]
  }
 ],
 "metadata": {
  "language_info": {
   "name": "python"
  },
  "orig_nbformat": 4
 },
 "nbformat": 4,
 "nbformat_minor": 2
}
