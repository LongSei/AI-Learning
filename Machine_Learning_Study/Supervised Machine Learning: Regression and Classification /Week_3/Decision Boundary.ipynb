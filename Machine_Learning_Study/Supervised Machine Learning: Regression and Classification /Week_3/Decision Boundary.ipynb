{
 "cells": [
  {
   "attachments": {},
   "cell_type": "markdown",
   "metadata": {},
   "source": [
    "# Decision Boundary"
   ]
  },
  {
   "attachments": {},
   "cell_type": "markdown",
   "metadata": {},
   "source": [
    "### Overview\n",
    "- Decision boundaries are a critical concept in logistic regression, illustrating how the model separates classes based on learned parameters.\n",
    "- Based on threshold to decide which is the result of model"
   ]
  },
  {
   "attachments": {},
   "cell_type": "markdown",
   "metadata": {},
   "source": [
    "### Decision Boundary Types\n"
   ]
  },
  {
   "attachments": {},
   "cell_type": "markdown",
   "metadata": {},
   "source": [
    "#### Linear: Cluster the dataset with linear line\n",
    "\n",
    "![Image](./image/LinearDecisionBoundaries.png)"
   ]
  },
  {
   "attachments": {},
   "cell_type": "markdown",
   "metadata": {},
   "source": [
    "#### Polynomial: Cluster the dataset with polyomial line\n",
    "\n",
    "![Image](./image/NonLinearDecisionBoundaries.png)"
   ]
  },
  {
   "attachments": {},
   "cell_type": "markdown",
   "metadata": {},
   "source": [
    "### Logistic Regression & Decision Boundary\n",
    "\n",
    "| Feature    | Logistic Regression                                                                                             | Decision Boundary                                                                                             |\n",
    "|------------|-----------------------------------------------------------------------------------------------------------------|---------------------------------------------------------------------------------------------------------------|\n",
    "| **Nature**     | A statistical method for binary classification.                                                                 | A threshold at which the classification decision changes from one class to another.                          |\n",
    "| **Function**   | Models the probability of a binary response using the Sigmoid function applied to a linear combination of inputs. | Delineates regions of different classifications in the feature space determined by the model's predictions.  |\n",
    "| **Output**     | Probabilities between 0 and 1, indicating the likelihood of belonging to one of two classes.                      | Not directly applicable, as it is a concept rather than a model output.                                      |\n",
    "| **Purpose**    | To estimate parameters that best predict the probability of the target variable's classification.                 | To visually and mathematically illustrate how well the model separates different classes in the feature space.|\n"
   ]
  }
 ],
 "metadata": {
  "language_info": {
   "name": "python"
  },
  "orig_nbformat": 4
 },
 "nbformat": 4,
 "nbformat_minor": 2
}
