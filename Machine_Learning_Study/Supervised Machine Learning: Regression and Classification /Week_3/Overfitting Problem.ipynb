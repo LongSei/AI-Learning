{
 "cells": [
  {
   "attachments": {},
   "cell_type": "markdown",
   "metadata": {},
   "source": [
    "# Overfitting Problem\n"
   ]
  },
  {
   "attachments": {},
   "cell_type": "markdown",
   "metadata": {},
   "source": [
    "### Overfitting vs. Underfitting\n",
    "- **Overfitting**: When a learning algorithm models the training data too closely, capturing noise along with the underlying pattern. It performs well on the training data but poorly on new, unseen data.\n",
    "\n",
    "- **Underfitting**: Occurs when the model is too simple to capture the underlying structure of the data, resulting in poor performance on both the training data and new data.\n"
   ]
  },
  {
   "attachments": {},
   "cell_type": "markdown",
   "metadata": {},
   "source": [
    "### Bias vs. Variance\n",
    "- **High Bias**: The model makes strong assumptions about the form of the underlying function that doesn’t hold (underfitting).\n",
    "\n",
    "- **High Variance**: The model is excessively complex, capturing noise in the data as if it were a real pattern (overfitting).\n"
   ]
  }
 ],
 "metadata": {
  "language_info": {
   "name": "python"
  },
  "orig_nbformat": 4
 },
 "nbformat": 4,
 "nbformat_minor": 2
}
