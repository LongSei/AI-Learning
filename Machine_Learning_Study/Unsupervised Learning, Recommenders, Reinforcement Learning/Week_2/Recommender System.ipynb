{
 "cells": [
  {
   "attachments": {},
   "cell_type": "markdown",
   "metadata": {},
   "source": [
    "# Recommender System\n",
    "\n",
    "![Image](./image/RecommendSystem.png)"
   ]
  },
  {
   "attachments": {},
   "cell_type": "markdown",
   "metadata": {},
   "source": [
    "## Key Notation: \n",
    "\n",
    "- $n_u$: for the number of users.\n",
    "- $n_m$: for the number of movies (or items).\n",
    "- $r(i,j)=1$ if user j has rated movie i, and $r(i,j)=0$ if not.\n",
    "- $y(i,j)$ to represent the rating given by user j to movie i.\n",
    "\n",
    "$\\implies$ The much features that the model be given, the better result"
   ]
  },
  {
   "attachments": {},
   "cell_type": "markdown",
   "metadata": {},
   "source": [
    "## Cost Function\n",
    "\n",
    "![Image](./image/CostFunction.png)"
   ]
  },
  {
   "attachments": {},
   "cell_type": "markdown",
   "metadata": {},
   "source": [
    "### Formula:\n",
    "- For each per: $J(w^{(j)}, b^{(j)}) = \\frac{1}{2} \\sum_{i:r(i, j) = 1}(w^{(j)}x^{(i)} + b^{(j)} - y^{(i, j)})^{2} + \\frac{\\lambda}{2} \\sum_{k = 1}^{n}(w_k^{(j)})^{2}$\n",
    "\n"
   ]
  },
  {
   "attachments": {},
   "cell_type": "markdown",
   "metadata": {},
   "source": [
    "# Collaborative Filtering Algorithm\n",
    "\n",
    "- **Motivation**: There can be the case that some movie feature's are not be defined $\\implies$ We need to create other features which will be filled for all movie\n",
    "\n",
    "$\\implies$ We got the new cost function which not only optimize for $w, b$ and also $x$ (new features)\n",
    "\n",
    "![Image](./image/CostFunction(2).png)"
   ]
  },
  {
   "attachments": {},
   "cell_type": "markdown",
   "metadata": {},
   "source": [
    "# Binary Labels: favs, likes and clicks\n",
    "\n",
    "- The change is also the similar as the change from Linear Regression to Logistic Regression\n",
    "\n",
    "![Image](./image/BinaryFunction.png)\n",
    "\n",
    "![Image](./image/BinaryCostFunction.png)"
   ]
  },
  {
   "attachments": {},
   "cell_type": "markdown",
   "metadata": {},
   "source": [
    "# Mean Normalization\n",
    "\n",
    "- **Definition**: We will minus the value with the mean value. \n",
    "$\\implies$ Help the algorithm can run faster and more effective\n",
    "\n",
    "![Image](./image/MeanNorm.png)"
   ]
  },
  {
   "attachments": {},
   "cell_type": "markdown",
   "metadata": {},
   "source": [
    "# Finding Related Items\n",
    "\n",
    "- **Algorithm Suggestion**: The algorithm will suggest to the user the item \"k\" which have the smallest $distance$ as the item \"i\" (\"i\": the item that the user like)\n",
    "\n",
    "- Formula: $distance = \\sum_{l=1}^n (x_l^{(k)} - x_l^{(i)})^2 = \\lVert x_l^{(k)} - x_l^{(i)}\\rVert^2$"
   ]
  },
  {
   "attachments": {},
   "cell_type": "markdown",
   "metadata": {},
   "source": [
    "# Limitation of Collaborative Filtering\n",
    "\n",
    "| Limitation                                 | Description                                                                                                                                                                                  | Partial Solutions                                                              |\n",
    "|--------------------------------------------|----------------------------------------------------------------------------------------------------------------------------------------------------------------------------------------------|--------------------------------------------------------------------------------|\n",
    "| **Cold Start Problem**                     | Difficulty in accurately ranking new items with few ratings or providing relevant recommendations to new users with limited interaction history.                                             | Mean normalization and other techniques to improve recommendations for new items/users. |\n",
    "| **Lack of Utilization of Side Information** | Collaborative filtering does not naturally incorporate additional information about items (e.g., genre, budget, star cast) or users (e.g., demographics, preferences).                       | N/A                                                                            |\n"
   ]
  },
  {
   "attachments": {},
   "cell_type": "markdown",
   "metadata": {},
   "source": [
    "# Collaborative filtering vs. Content-based filtering\n",
    "\n",
    "| Feature                  | Collaborative Filtering                             | Content-Based Filtering                                                                                   |\n",
    "|--------------------------|-----------------------------------------------------|-----------------------------------------------------------------------------------------------------------|\n",
    "| **Recommendation Basis** | Similarities in user ratings                        | Matching features of users with features of items                                                        |\n",
    "| **User-Item Interaction**| Utilizes collective ratings of items by users       | Utilizes ratings ($r_{ij}$), actual ratings given ($y_{ij}$) if defined, and detailed user and item attributes |\n",
    "| **Key Components**       | User ratings                                        | User features (e.g., demographics, past behaviors), Item features (e.g., characteristics, average ratings) |\n",
    "| **Algorithm Focus**      | Finding items similar to those rated highly by similar users | Finding good matches between users and items based on detailed attributes                                |\n",
    "| **Personalization**      | Based on collective user behavior                   | Based on individual user preferences and item attributes                                                 |\n"
   ]
  }
 ],
 "metadata": {
  "language_info": {
   "name": "python"
  },
  "orig_nbformat": 4
 },
 "nbformat": 4,
 "nbformat_minor": 2
}
