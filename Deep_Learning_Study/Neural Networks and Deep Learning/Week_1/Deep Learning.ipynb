{
 "cells": [
  {
   "attachments": {},
   "cell_type": "markdown",
   "metadata": {},
   "source": [
    "# Neural Network\n",
    "\n",
    "\n",
    "- **Standard Neural Networks**: Used for basic input-output mapping, like real estate pricing based on features.\n",
    "\n",
    "- **Convolutional Neural Networks: (CNNs)**: Best suited for image processing tasks.\n",
    "\n",
    "- **Recurrent Neural Networks (RNNs)**: Ideal for handling sequence data, such as audio clips or sentences, due to their temporal dynamics.\n",
    "\n",
    "- **Hybrid Neural Networks**: With require processing diverse data types, a combination or a custom architecture is used to handle multiple data sources and types efficiently.\n",
    "\n",
    "![Image](./image/ScaleDrive.png)\n"
   ]
  }
 ],
 "metadata": {
  "language_info": {
   "name": "python"
  },
  "orig_nbformat": 4
 },
 "nbformat": 4,
 "nbformat_minor": 2
}
